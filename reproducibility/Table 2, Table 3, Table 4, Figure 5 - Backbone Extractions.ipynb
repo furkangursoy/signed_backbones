{
 "cells": [
  {
   "cell_type": "code",
   "execution_count": 1,
   "metadata": {
    "colab": {
     "base_uri": "https://localhost:8080/"
    },
    "executionInfo": {
     "elapsed": 583,
     "status": "ok",
     "timestamp": 1616502750071,
     "user": {
      "displayName": "Furkan Gürsoy",
      "photoUrl": "https://lh6.googleusercontent.com/-sAS7aQq2NJo/AAAAAAAAAAI/AAAAAAAABIo/aqGr3JWzgvg/s64/photo.jpg",
      "userId": "14930153312656269547"
     },
     "user_tz": -180
    },
    "id": "9S9DHtkGGFSB",
    "outputId": "403b5b19-5454-4180-9edb-77f0cf6c8945"
   },
   "outputs": [
    {
     "name": "stdout",
     "output_type": "stream",
     "text": [
      "Requirement already satisfied: signed_backbones in c:\\users\\furkan\\appdata\\local\\programs\\python\\python39\\lib\\site-packages (0.91.3)\n"
     ]
    },
    {
     "name": "stderr",
     "output_type": "stream",
     "text": [
      "WARNING: You are using pip version 20.2.3; however, version 21.0.1 is available.\n",
      "You should consider upgrading via the 'c:\\users\\furkan\\appdata\\local\\programs\\python\\python39\\python.exe -m pip install --upgrade pip' command.\n"
     ]
    }
   ],
   "source": [
    "!pip install signed_backbones"
   ]
  },
  {
   "cell_type": "code",
   "execution_count": 2,
   "metadata": {
    "executionInfo": {
     "elapsed": 1707,
     "status": "ok",
     "timestamp": 1616502754070,
     "user": {
      "displayName": "Furkan Gürsoy",
      "photoUrl": "https://lh6.googleusercontent.com/-sAS7aQq2NJo/AAAAAAAAAAI/AAAAAAAABIo/aqGr3JWzgvg/s64/photo.jpg",
      "userId": "14930153312656269547"
     },
     "user_tz": -180
    },
    "id": "4xmg783uGJde"
   },
   "outputs": [],
   "source": [
    "import pandas as pd\n",
    "import signed_backbones as sb"
   ]
  },
  {
   "cell_type": "code",
   "execution_count": 3,
   "metadata": {
    "colab": {
     "base_uri": "https://localhost:8080/"
    },
    "executionInfo": {
     "elapsed": 1288,
     "status": "ok",
     "timestamp": 1616502756678,
     "user": {
      "displayName": "Furkan Gürsoy",
      "photoUrl": "https://lh6.googleusercontent.com/-sAS7aQq2NJo/AAAAAAAAAAI/AAAAAAAABIo/aqGr3JWzgvg/s64/photo.jpg",
      "userId": "14930153312656269547"
     },
     "user_tz": -180
    },
    "id": "N3mVc7A6GOgb",
    "outputId": "e0209fcc-d19b-4503-d8cb-5bae7172f2a5"
   },
   "outputs": [
    {
     "name": "stdout",
     "output_type": "stream",
     "text": [
      "Iterative fitting procedure converged at iteration 6.\n",
      "471 edges are retained.\n"
     ]
    }
   ],
   "source": [
    "graph = pd.read_csv('usmigration2018.csv', header=None)\n",
    "backbone = sb.extract(graph, significance_threshold=40, vigor_threshold = 0.33, return_weights=False)\n",
    "pd.DataFrame(backbone, columns = ['source', 'target', 'sign']).to_csv('migration_backbone.csv', index=False)"
   ]
  },
  {
   "cell_type": "code",
   "execution_count": 4,
   "metadata": {
    "colab": {
     "base_uri": "https://localhost:8080/"
    },
    "executionInfo": {
     "elapsed": 1356,
     "status": "ok",
     "timestamp": 1616503051429,
     "user": {
      "displayName": "Furkan Gürsoy",
      "photoUrl": "https://lh6.googleusercontent.com/-sAS7aQq2NJo/AAAAAAAAAAI/AAAAAAAABIo/aqGr3JWzgvg/s64/photo.jpg",
      "userId": "14930153312656269547"
     },
     "user_tz": -180
    },
    "id": "rHJ94DBnGMHP",
    "outputId": "aadaa5ac-d733-40ae-ca19-f3b24125576c"
   },
   "outputs": [
    {
     "name": "stdout",
     "output_type": "stream",
     "text": [
      "Iterative fitting procedure converged at iteration 3.\n",
      "380 edges are retained.\n"
     ]
    }
   ],
   "source": [
    "graph = pd.read_csv('eurovision2003.csv', header=None)\n",
    "backbone = sb.extract(graph, significance_threshold=(-1, 0.5), vigor_threshold = (-0.33, 0.1), return_weights=False)\n",
    "pd.DataFrame(backbone, columns = ['source', 'target', 'sign']).to_csv('eurovision_backbone.csv', index=False)\n"
   ]
  },
  {
   "cell_type": "code",
   "execution_count": 5,
   "metadata": {
    "colab": {
     "base_uri": "https://localhost:8080/"
    },
    "executionInfo": {
     "elapsed": 1357,
     "status": "ok",
     "timestamp": 1616503121123,
     "user": {
      "displayName": "Furkan Gürsoy",
      "photoUrl": "https://lh6.googleusercontent.com/-sAS7aQq2NJo/AAAAAAAAAAI/AAAAAAAABIo/aqGr3JWzgvg/s64/photo.jpg",
      "userId": "14930153312656269547"
     },
     "user_tz": -180
    },
    "id": "ugR-lh14Hj5L",
    "outputId": "fbc33620-1f02-4c4b-8bc6-24adf372c311"
   },
   "outputs": [
    {
     "name": "stdout",
     "output_type": "stream",
     "text": [
      "Iterative fitting procedure converged at iteration 3.\n",
      "760 edges are retained.\n"
     ]
    }
   ],
   "source": [
    "graph = pd.read_csv('hypertext2009.csv', header=None)\n",
    "backbone = sb.extract(graph, significance_threshold=3, vigor_threshold = 0.33, return_weights=False, directed=False)\n",
    "pd.DataFrame(backbone, columns = ['source', 'target', 'sign']).to_csv('contact_backbone.csv', index=False)"
   ]
  },
  {
   "cell_type": "code",
   "execution_count": 6,
   "metadata": {
    "colab": {
     "base_uri": "https://localhost:8080/"
    },
    "executionInfo": {
     "elapsed": 1063,
     "status": "ok",
     "timestamp": 1616503186641,
     "user": {
      "displayName": "Furkan Gürsoy",
      "photoUrl": "https://lh6.googleusercontent.com/-sAS7aQq2NJo/AAAAAAAAAAI/AAAAAAAABIo/aqGr3JWzgvg/s64/photo.jpg",
      "userId": "14930153312656269547"
     },
     "user_tz": -180
    },
    "id": "6w5IR1qyITLg",
    "outputId": "3d8d3e75-e6c0-4f5b-d403-de9d4d12e67e"
   },
   "outputs": [
    {
     "name": "stdout",
     "output_type": "stream",
     "text": [
      "Iterative fitting procedure converged at iteration 3.\n",
      "328 edges are retained.\n"
     ]
    }
   ],
   "source": [
    "graph = pd.read_csv('species.csv', header=None)\n",
    "backbone = sb.extract(graph, significance_threshold=(-5,3), vigor_threshold = (-0.5, 0.1), return_weights=False, directed = False)\n",
    "pd.DataFrame(backbone, columns = ['source', 'target', 'sign']).to_csv('species_backbone.csv', index=False)"
   ]
  },
  {
   "cell_type": "markdown",
   "metadata": {},
   "source": [
    "Please see \"Table 2, Table 3, Table 4, Figure 5 - Results.Rmd\" for calculations and figures based on these backbones."
   ]
  }
 ],
 "metadata": {
  "colab": {
   "authorship_tag": "ABX9TyNhTS9YnWCpJoQ8CGZryy0e",
   "collapsed_sections": [],
   "mount_file_id": "1e1bWjSMeLQ81b56PrqV0FZS4fZQNF3OZ",
   "name": "Extractions.ipynb adlı dosyanın kopyası",
   "provenance": []
  },
  "kernelspec": {
   "display_name": "Python 3",
   "language": "python",
   "name": "python3"
  },
  "language_info": {
   "codemirror_mode": {
    "name": "ipython",
    "version": 3
   },
   "file_extension": ".py",
   "mimetype": "text/x-python",
   "name": "python",
   "nbconvert_exporter": "python",
   "pygments_lexer": "ipython3",
   "version": "3.9.2"
  }
 },
 "nbformat": 4,
 "nbformat_minor": 1
}
